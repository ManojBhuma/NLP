{
  "nbformat": 4,
  "nbformat_minor": 0,
  "metadata": {
    "colab": {
      "name": "NLP_Assignment2.ipynb",
      "provenance": [],
      "machine_shape": "hm",
      "include_colab_link": true
    },
    "kernelspec": {
      "name": "python3",
      "display_name": "Python 3"
    },
    "accelerator": "GPU"
  },
  "cells": [
    {
      "cell_type": "markdown",
      "metadata": {
        "id": "view-in-github",
        "colab_type": "text"
      },
      "source": [
        "<a href=\"https://colab.research.google.com/github/ManojBhuma/NLP/blob/master/NLP_Assignment2.ipynb\" target=\"_parent\"><img src=\"https://colab.research.google.com/assets/colab-badge.svg\" alt=\"Open In Colab\"/></a>"
      ]
    },
    {
      "cell_type": "code",
      "metadata": {
        "id": "Yf9duxZkEU33",
        "colab_type": "code",
        "outputId": "28ea4bb2-b711-4b23-9bba-dcf2af507c9b",
        "colab": {
          "base_uri": "https://localhost:8080/",
          "height": 123
        }
      },
      "source": [
        "import pandas as pd\n",
        "from sklearn.model_selection import train_test_split\n",
        "import numpy as np\n",
        "import nltk\n",
        "nltk.download('punkt')\n",
        "nltk.download('stopwords')\n",
        "nltk.download('wordnet')\n",
        "from nltk.corpus import stopwords\n",
        "from nltk.tokenize import word_tokenize\n",
        "import pandas as pd\n",
        "from keras.utils import to_categorical\n",
        "\n",
        "import nltk\n",
        "import random"
      ],
      "execution_count": 31,
      "outputs": [
        {
          "output_type": "stream",
          "text": [
            "[nltk_data] Downloading package punkt to /root/nltk_data...\n",
            "[nltk_data]   Package punkt is already up-to-date!\n",
            "[nltk_data] Downloading package stopwords to /root/nltk_data...\n",
            "[nltk_data]   Package stopwords is already up-to-date!\n",
            "[nltk_data] Downloading package wordnet to /root/nltk_data...\n",
            "[nltk_data]   Package wordnet is already up-to-date!\n"
          ],
          "name": "stdout"
        }
      ]
    },
    {
      "cell_type": "code",
      "metadata": {
        "id": "iM8iAvz5EbWv",
        "colab_type": "code",
        "colab": {}
      },
      "source": [
        "data = pd.read_csv('https://raw.githubusercontent.com/cacoderquan/Sentiment-Analysis-on-the-Rotten-Tomatoes-movie-review-dataset/master/train.tsv', sep='\\t')"
      ],
      "execution_count": 0,
      "outputs": []
    },
    {
      "cell_type": "code",
      "metadata": {
        "id": "jBj0PW64FQry",
        "colab_type": "code",
        "outputId": "b777134e-859f-4411-dfa0-f40ca85f54d6",
        "colab": {
          "base_uri": "https://localhost:8080/",
          "height": 231
        }
      },
      "source": [
        "from nltk.corpus import stopwords\n",
        "from nltk.stem import WordNetLemmatizer\n",
        "import re \n",
        "\n",
        "pd.set_option('max_colwidth',400)\n",
        "\n",
        "wordnet = WordNetLemmatizer()\n",
        "stopwords_en = stopwords.words(\"english\")\n",
        "punctuations = \"?:!.,;-()\"\n",
        "\n",
        "raw_reviews = data.Phrase.values\n",
        "cleaned_reviews = []\n",
        "\n",
        "for i in range(len(raw_reviews)):\n",
        "  review = str(raw_reviews[i])\n",
        "  review=re.sub('[^a-zA-Z]',' ',review)\n",
        "  review=[wordnet.lemmatize(w) for w in word_tokenize(str(review).lower())]\n",
        "  review=' '.join(review)\n",
        "  cleaned_reviews.append(review)\n",
        "\n",
        "data['cleaned_reviews'] = cleaned_reviews\n",
        "\n",
        "data.head()"
      ],
      "execution_count": 33,
      "outputs": [
        {
          "output_type": "execute_result",
          "data": {
            "text/html": [
              "<div>\n",
              "<style scoped>\n",
              "    .dataframe tbody tr th:only-of-type {\n",
              "        vertical-align: middle;\n",
              "    }\n",
              "\n",
              "    .dataframe tbody tr th {\n",
              "        vertical-align: top;\n",
              "    }\n",
              "\n",
              "    .dataframe thead th {\n",
              "        text-align: right;\n",
              "    }\n",
              "</style>\n",
              "<table border=\"1\" class=\"dataframe\">\n",
              "  <thead>\n",
              "    <tr style=\"text-align: right;\">\n",
              "      <th></th>\n",
              "      <th>PhraseId</th>\n",
              "      <th>SentenceId</th>\n",
              "      <th>Phrase</th>\n",
              "      <th>Sentiment</th>\n",
              "      <th>cleaned_reviews</th>\n",
              "    </tr>\n",
              "  </thead>\n",
              "  <tbody>\n",
              "    <tr>\n",
              "      <th>0</th>\n",
              "      <td>1</td>\n",
              "      <td>1</td>\n",
              "      <td>A series of escapades demonstrating the adage that what is good for the goose is also good for the gander , some of which occasionally amuses but none of which amounts to much of a story .</td>\n",
              "      <td>1</td>\n",
              "      <td>a series of escapade demonstrating the adage that what is good for the goose is also good for the gander some of which occasionally amuses but none of which amount to much of a story</td>\n",
              "    </tr>\n",
              "    <tr>\n",
              "      <th>1</th>\n",
              "      <td>2</td>\n",
              "      <td>1</td>\n",
              "      <td>A series of escapades demonstrating the adage that what is good for the goose</td>\n",
              "      <td>2</td>\n",
              "      <td>a series of escapade demonstrating the adage that what is good for the goose</td>\n",
              "    </tr>\n",
              "    <tr>\n",
              "      <th>2</th>\n",
              "      <td>3</td>\n",
              "      <td>1</td>\n",
              "      <td>A series</td>\n",
              "      <td>2</td>\n",
              "      <td>a series</td>\n",
              "    </tr>\n",
              "    <tr>\n",
              "      <th>3</th>\n",
              "      <td>4</td>\n",
              "      <td>1</td>\n",
              "      <td>A</td>\n",
              "      <td>2</td>\n",
              "      <td>a</td>\n",
              "    </tr>\n",
              "    <tr>\n",
              "      <th>4</th>\n",
              "      <td>5</td>\n",
              "      <td>1</td>\n",
              "      <td>series</td>\n",
              "      <td>2</td>\n",
              "      <td>series</td>\n",
              "    </tr>\n",
              "  </tbody>\n",
              "</table>\n",
              "</div>"
            ],
            "text/plain": [
              "   PhraseId  ...                                                                                                                                                                         cleaned_reviews\n",
              "0         1  ...  a series of escapade demonstrating the adage that what is good for the goose is also good for the gander some of which occasionally amuses but none of which amount to much of a story\n",
              "1         2  ...                                                                                                            a series of escapade demonstrating the adage that what is good for the goose\n",
              "2         3  ...                                                                                                                                                                                a series\n",
              "3         4  ...                                                                                                                                                                                       a\n",
              "4         5  ...                                                                                                                                                                                  series\n",
              "\n",
              "[5 rows x 5 columns]"
            ]
          },
          "metadata": {
            "tags": []
          },
          "execution_count": 33
        }
      ]
    },
    {
      "cell_type": "code",
      "metadata": {
        "id": "9LvUQpwMFTBb",
        "colab_type": "code",
        "colab": {}
      },
      "source": [
        "X = data.cleaned_reviews.values\n",
        "Y = to_categorical(data.Sentiment.values)\n",
        "\n",
        "from sklearn.feature_extraction.text import TfidfVectorizer\n",
        "from sklearn.feature_extraction.text import CountVectorizer\n",
        "vectorizer = TfidfVectorizer(max_features=4000,stop_words = None, ngram_range=(1,2))\n",
        "X = vectorizer.fit_transform(X)\n",
        "\n"
      ],
      "execution_count": 0,
      "outputs": []
    },
    {
      "cell_type": "code",
      "metadata": {
        "id": "y2dLEfhjFWXq",
        "colab_type": "code",
        "colab": {}
      },
      "source": [
        "from sklearn.model_selection import train_test_split\n",
        "x_train, x_test, y_train, y_test = train_test_split(X, Y, test_size=0.3, random_state=2003)"
      ],
      "execution_count": 0,
      "outputs": []
    },
    {
      "cell_type": "code",
      "metadata": {
        "id": "kLqt3kylFYOH",
        "colab_type": "code",
        "colab": {}
      },
      "source": [
        "import numpy as np\n",
        "\n",
        "x_train_np = x_train.toarray()\n",
        "y_train_np = np.array(y_train)\n",
        "\n",
        "x_test_np = x_test.toarray()\n",
        "y_test_np = np.array(y_test)"
      ],
      "execution_count": 0,
      "outputs": []
    },
    {
      "cell_type": "code",
      "metadata": {
        "id": "3WFO85Y3FaC8",
        "colab_type": "code",
        "colab": {}
      },
      "source": [
        "x_train = np.expand_dims(x_train_np, axis=2)\n",
        "x_test = np.expand_dims(x_test_np, axis=2)"
      ],
      "execution_count": 0,
      "outputs": []
    },
    {
      "cell_type": "code",
      "metadata": {
        "id": "U94z9mguFb5Y",
        "colab_type": "code",
        "outputId": "d11205c9-1ee6-467b-9848-5d3e4c1e383d",
        "colab": {
          "base_uri": "https://localhost:8080/",
          "height": 34
        }
      },
      "source": [
        "import torch\n",
        "print(torch.__version__)\n",
        "from torch.nn import Conv1d\n",
        "from torch.nn import MaxPool1d\n",
        "from torch.nn import Flatten\n",
        "from torch.nn import Linear\n",
        "from torch.nn.functional import relu\n",
        "from torch import sigmoid\n",
        "from torch.utils.data import DataLoader, TensorDataset "
      ],
      "execution_count": 38,
      "outputs": [
        {
          "output_type": "stream",
          "text": [
            "1.4.0\n"
          ],
          "name": "stdout"
        }
      ]
    },
    {
      "cell_type": "code",
      "metadata": {
        "id": "llvXmprNFmqF",
        "colab_type": "code",
        "colab": {}
      },
      "source": [
        "from keras.models import Sequential\n",
        "from keras.layers import Dense, Conv1D, Flatten, MaxPooling1D, Dropout\n",
        "\n",
        "model = Sequential()\n",
        "\n",
        "def cnn(data_x):\n",
        "  #Convolution layer 1\n",
        "  model.add(Conv1D(filters = 64, kernel_size=3, activation='relu', input_shape=(data_x.shape[1],1)))\n",
        "  #MaxPool layer\n",
        "  model.add(MaxPooling1D(pool_size =2))\n",
        "  #Convolution layer 2\n",
        "  model.add(Conv1D(filters = 128, kernel_size=3, activation='relu'))\n",
        "  #MaxPool layer\n",
        "  model.add(MaxPooling1D(pool_size =2))\n",
        "  model.add(Flatten())\n",
        "  #Fully connected layer\n",
        "  model.add(Dense(100, activation='relu'))\n",
        "  #Dropout layer\n",
        "  model.add(Dropout(0.2))\n",
        "  #Output Layer\n",
        "  model.add(Dense(5, activation='softmax')) \n",
        "\n",
        "\n",
        "\n",
        "\n"
      ],
      "execution_count": 0,
      "outputs": []
    },
    {
      "cell_type": "code",
      "metadata": {
        "id": "1GwWqx8kJmpw",
        "colab_type": "code",
        "colab": {}
      },
      "source": [
        "from keras import metrics\n",
        "from sklearn.metrics import f1_score"
      ],
      "execution_count": 0,
      "outputs": []
    },
    {
      "cell_type": "code",
      "metadata": {
        "id": "oVzM61kuKeiQ",
        "colab_type": "code",
        "colab": {}
      },
      "source": [
        "from keras import backend as K\n",
        "def recall_m(y_true, y_pred):\n",
        "    true_positives = K.sum(K.round(K.clip(y_true * y_pred, 0, 1)))\n",
        "    possible_positives = K.sum(K.round(K.clip(y_true, 0, 1)))\n",
        "    recall = true_positives / (possible_positives + K.epsilon())\n",
        "    return recall\n",
        "\n",
        "def precision_m(y_true, y_pred):\n",
        "    true_positives = K.sum(K.round(K.clip(y_true * y_pred, 0, 1)))\n",
        "    predicted_positives = K.sum(K.round(K.clip(y_pred, 0, 1)))\n",
        "    precision = true_positives / (predicted_positives + K.epsilon())\n",
        "    return precision\n",
        "\n",
        "def f1_m(y_true, y_pred):\n",
        "    precision = precision_m(y_true, y_pred)\n",
        "    recall = recall_m(y_true, y_pred)\n",
        "    return 2*((precision*recall)/(precision+recall+K.epsilon()))"
      ],
      "execution_count": 0,
      "outputs": []
    },
    {
      "cell_type": "code",
      "metadata": {
        "id": "9CaUcnHJFnTd",
        "colab_type": "code",
        "colab": {}
      },
      "source": [
        "\n",
        "cnn(x_train_np)\n",
        "model.compile(optimizer='adam', loss='categorical_crossentropy', metrics=[metrics.categorical_accuracy,f1_m,precision_m, recall_m])\n"
      ],
      "execution_count": 0,
      "outputs": []
    },
    {
      "cell_type": "code",
      "metadata": {
        "id": "-z8GTSfaFpiK",
        "colab_type": "code",
        "outputId": "aeb4da95-72d2-4870-fe39-406e250ee0b3",
        "colab": {
          "base_uri": "https://localhost:8080/",
          "height": 727
        }
      },
      "source": [
        "history = model.fit(x_train, y_train_np, epochs=20, batch_size=128)\n"
      ],
      "execution_count": 52,
      "outputs": [
        {
          "output_type": "stream",
          "text": [
            "Epoch 1/20\n",
            "109242/109242 [==============================] - 27s 251us/step - loss: 0.4568 - categorical_accuracy: 0.8129 - f1_m: 0.8101 - precision_m: 0.8288 - recall_m: 0.7924\n",
            "Epoch 2/20\n",
            "109242/109242 [==============================] - 27s 251us/step - loss: 0.4519 - categorical_accuracy: 0.8139 - f1_m: 0.8117 - precision_m: 0.8306 - recall_m: 0.7939\n",
            "Epoch 3/20\n",
            "109242/109242 [==============================] - 27s 250us/step - loss: 0.4500 - categorical_accuracy: 0.8144 - f1_m: 0.8126 - precision_m: 0.8314 - recall_m: 0.7947\n",
            "Epoch 4/20\n",
            "109242/109242 [==============================] - 27s 251us/step - loss: 0.4444 - categorical_accuracy: 0.8172 - f1_m: 0.8151 - precision_m: 0.8333 - recall_m: 0.7979\n",
            "Epoch 5/20\n",
            "109242/109242 [==============================] - 27s 251us/step - loss: 0.4405 - categorical_accuracy: 0.8180 - f1_m: 0.8159 - precision_m: 0.8338 - recall_m: 0.7988\n",
            "Epoch 6/20\n",
            "109242/109242 [==============================] - 27s 250us/step - loss: 0.4364 - categorical_accuracy: 0.8204 - f1_m: 0.8184 - precision_m: 0.8365 - recall_m: 0.8012\n",
            "Epoch 7/20\n",
            "109242/109242 [==============================] - 27s 250us/step - loss: 0.4339 - categorical_accuracy: 0.8211 - f1_m: 0.8195 - precision_m: 0.8372 - recall_m: 0.8026\n",
            "Epoch 8/20\n",
            "109242/109242 [==============================] - 27s 250us/step - loss: 0.4312 - categorical_accuracy: 0.8212 - f1_m: 0.8192 - precision_m: 0.8369 - recall_m: 0.8024\n",
            "Epoch 9/20\n",
            "109242/109242 [==============================] - 27s 250us/step - loss: 0.4292 - categorical_accuracy: 0.8221 - f1_m: 0.8201 - precision_m: 0.8375 - recall_m: 0.8035\n",
            "Epoch 10/20\n",
            "109242/109242 [==============================] - 27s 251us/step - loss: 0.4249 - categorical_accuracy: 0.8241 - f1_m: 0.8220 - precision_m: 0.8396 - recall_m: 0.8052\n",
            "Epoch 11/20\n",
            "109242/109242 [==============================] - 28s 252us/step - loss: 0.4223 - categorical_accuracy: 0.8247 - f1_m: 0.8230 - precision_m: 0.8403 - recall_m: 0.8066\n",
            "Epoch 12/20\n",
            "109242/109242 [==============================] - 28s 252us/step - loss: 0.4204 - categorical_accuracy: 0.8246 - f1_m: 0.8233 - precision_m: 0.8404 - recall_m: 0.8070\n",
            "Epoch 13/20\n",
            "109242/109242 [==============================] - 27s 252us/step - loss: 0.4174 - categorical_accuracy: 0.8256 - f1_m: 0.8239 - precision_m: 0.8410 - recall_m: 0.8076\n",
            "Epoch 14/20\n",
            "109242/109242 [==============================] - 28s 252us/step - loss: 0.4162 - categorical_accuracy: 0.8276 - f1_m: 0.8256 - precision_m: 0.8424 - recall_m: 0.8095\n",
            "Epoch 15/20\n",
            "109242/109242 [==============================] - 28s 253us/step - loss: 0.4115 - categorical_accuracy: 0.8280 - f1_m: 0.8262 - precision_m: 0.8429 - recall_m: 0.8104\n",
            "Epoch 16/20\n",
            "109242/109242 [==============================] - 28s 255us/step - loss: 0.4101 - categorical_accuracy: 0.8284 - f1_m: 0.8275 - precision_m: 0.8442 - recall_m: 0.8115\n",
            "Epoch 17/20\n",
            "109242/109242 [==============================] - 28s 252us/step - loss: 0.4083 - categorical_accuracy: 0.8289 - f1_m: 0.8270 - precision_m: 0.8436 - recall_m: 0.8112\n",
            "Epoch 18/20\n",
            "109242/109242 [==============================] - 28s 252us/step - loss: 0.4072 - categorical_accuracy: 0.8300 - f1_m: 0.8285 - precision_m: 0.8450 - recall_m: 0.8128\n",
            "Epoch 19/20\n",
            "109242/109242 [==============================] - 28s 253us/step - loss: 0.4052 - categorical_accuracy: 0.8318 - f1_m: 0.8300 - precision_m: 0.8468 - recall_m: 0.8140\n",
            "Epoch 20/20\n",
            "109242/109242 [==============================] - 28s 254us/step - loss: 0.4015 - categorical_accuracy: 0.8317 - f1_m: 0.8306 - precision_m: 0.8474 - recall_m: 0.8147\n"
          ],
          "name": "stdout"
        }
      ]
    },
    {
      "cell_type": "code",
      "metadata": {
        "id": "-nA8XlhYMXQb",
        "colab_type": "code",
        "colab": {
          "base_uri": "https://localhost:8080/",
          "height": 87
        },
        "outputId": "1bcecd78-1364-4532-8ce1-50e51d6c1ab7"
      },
      "source": [
        "loss, accuracy, f1_score, precision, recall = model.evaluate(x_test, y_test, verbose=0)\n",
        "print(\"Accuracy \" + str(accuracy) + \":\\n\\ff1_score = \" + str(f1_score) +\n",
        "          \"\\nPrecision = \" + str(precision) + \"\\nRecall = \" + str(recall))"
      ],
      "execution_count": 53,
      "outputs": [
        {
          "output_type": "stream",
          "text": [
            "Accuracy 0.6212354222734846:\n",
            "\ff1_score = 0.6184005037805007\n",
            "Precision = 0.6271288508489735\n",
            "Recall = 0.6101713016361229\n"
          ],
          "name": "stdout"
        }
      ]
    },
    {
      "cell_type": "code",
      "metadata": {
        "id": "Gmuu4R9rPypo",
        "colab_type": "code",
        "colab": {
          "base_uri": "https://localhost:8080/",
          "height": 34
        },
        "outputId": "cb43e20a-40ed-44e5-d522-04a8c065ac02"
      },
      "source": [
        "model.save(\"model.h5\")\n",
        "print(\"Saved model to disk\")"
      ],
      "execution_count": 45,
      "outputs": [
        {
          "output_type": "stream",
          "text": [
            "Saved model to disk\n"
          ],
          "name": "stdout"
        }
      ]
    },
    {
      "cell_type": "code",
      "metadata": {
        "id": "ki9dbNjUP3ac",
        "colab_type": "code",
        "colab": {
          "base_uri": "https://localhost:8080/",
          "height": 443
        },
        "outputId": "65f8d29d-09c6-41c0-af2c-a316db037481"
      },
      "source": [
        "\n",
        "from numpy import loadtxt\n",
        "from keras.models import load_model\n",
        "load_model('model.h5', custom_objects={'f1_m': f1_m, 'precision_m':precision_m, 'recall_m':recall_m})\n",
        "model.summary()\n"
      ],
      "execution_count": 46,
      "outputs": [
        {
          "output_type": "stream",
          "text": [
            "Model: \"sequential_3\"\n",
            "_________________________________________________________________\n",
            "Layer (type)                 Output Shape              Param #   \n",
            "=================================================================\n",
            "conv1d_6 (Conv1D)            (None, 3998, 64)          256       \n",
            "_________________________________________________________________\n",
            "max_pooling1d_5 (MaxPooling1 (None, 1999, 64)          0         \n",
            "_________________________________________________________________\n",
            "conv1d_7 (Conv1D)            (None, 1997, 128)         24704     \n",
            "_________________________________________________________________\n",
            "max_pooling1d_6 (MaxPooling1 (None, 998, 128)          0         \n",
            "_________________________________________________________________\n",
            "flatten_3 (Flatten)          (None, 127744)            0         \n",
            "_________________________________________________________________\n",
            "dense_5 (Dense)              (None, 100)               12774500  \n",
            "_________________________________________________________________\n",
            "dropout_3 (Dropout)          (None, 100)               0         \n",
            "_________________________________________________________________\n",
            "dense_6 (Dense)              (None, 5)                 505       \n",
            "=================================================================\n",
            "Total params: 12,799,965\n",
            "Trainable params: 12,799,965\n",
            "Non-trainable params: 0\n",
            "_________________________________________________________________\n"
          ],
          "name": "stdout"
        }
      ]
    }
  ]
}