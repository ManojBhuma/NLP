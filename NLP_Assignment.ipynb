{
  "nbformat": 4,
  "nbformat_minor": 0,
  "metadata": {
    "colab": {
      "name": "NLP_Assignment.ipynb",
      "provenance": [],
      "collapsed_sections": [],
      "toc_visible": true,
      "authorship_tag": "ABX9TyOl5/QcUzm6bL7WLqFW5ZCg",
      "include_colab_link": true
    },
    "kernelspec": {
      "name": "python3",
      "display_name": "Python 3"
    },
    "accelerator": "GPU"
  },
  "cells": [
    {
      "cell_type": "markdown",
      "metadata": {
        "id": "view-in-github",
        "colab_type": "text"
      },
      "source": [
        "<a href=\"https://colab.research.google.com/github/ManojBhuma/NLP/blob/master/NLP_Assignment.ipynb\" target=\"_parent\"><img src=\"https://colab.research.google.com/assets/colab-badge.svg\" alt=\"Open In Colab\"/></a>"
      ]
    },
    {
      "cell_type": "code",
      "metadata": {
        "id": "F0VQWuBh02oa",
        "colab_type": "code",
        "colab": {}
      },
      "source": [
        "\n",
        "import pandas as pd\n",
        "from sklearn.model_selection import train_test_split\n",
        "import numpy as np\n",
        "import matplotlib.pyplot as plt\n"
      ],
      "execution_count": 0,
      "outputs": []
    },
    {
      "cell_type": "code",
      "metadata": {
        "id": "MMWB6lio1KZ9",
        "colab_type": "code",
        "outputId": "ee5eceeb-931b-4b08-86ae-b1e5908c7d3b",
        "colab": {
          "base_uri": "https://localhost:8080/",
          "height": 207
        }
      },
      "source": [
        "dataset = pd.read_csv('/content/housing.csv') \n",
        "dataset = dataset.dropna()\n",
        "print(\"Here are the first five rows of the dataset:\") \n",
        "dataset.head()\n"
      ],
      "execution_count": 0,
      "outputs": [
        {
          "output_type": "stream",
          "text": [
            "Here are the first five rows of the dataset:\n"
          ],
          "name": "stdout"
        },
        {
          "output_type": "execute_result",
          "data": {
            "text/html": [
              "<div>\n",
              "<style scoped>\n",
              "    .dataframe tbody tr th:only-of-type {\n",
              "        vertical-align: middle;\n",
              "    }\n",
              "\n",
              "    .dataframe tbody tr th {\n",
              "        vertical-align: top;\n",
              "    }\n",
              "\n",
              "    .dataframe thead th {\n",
              "        text-align: right;\n",
              "    }\n",
              "</style>\n",
              "<table border=\"1\" class=\"dataframe\">\n",
              "  <thead>\n",
              "    <tr style=\"text-align: right;\">\n",
              "      <th></th>\n",
              "      <th>longitude</th>\n",
              "      <th>latitude</th>\n",
              "      <th>housing_median_age</th>\n",
              "      <th>total_rooms</th>\n",
              "      <th>total_bedrooms</th>\n",
              "      <th>population</th>\n",
              "      <th>households</th>\n",
              "      <th>median_income</th>\n",
              "      <th>median_house_value</th>\n",
              "      <th>ocean_proximity</th>\n",
              "    </tr>\n",
              "  </thead>\n",
              "  <tbody>\n",
              "    <tr>\n",
              "      <th>0</th>\n",
              "      <td>-122.23</td>\n",
              "      <td>37.88</td>\n",
              "      <td>41.0</td>\n",
              "      <td>880.0</td>\n",
              "      <td>129.0</td>\n",
              "      <td>322.0</td>\n",
              "      <td>126.0</td>\n",
              "      <td>8.3252</td>\n",
              "      <td>452600.0</td>\n",
              "      <td>NEAR BAY</td>\n",
              "    </tr>\n",
              "    <tr>\n",
              "      <th>1</th>\n",
              "      <td>-122.22</td>\n",
              "      <td>37.86</td>\n",
              "      <td>21.0</td>\n",
              "      <td>7099.0</td>\n",
              "      <td>1106.0</td>\n",
              "      <td>2401.0</td>\n",
              "      <td>1138.0</td>\n",
              "      <td>8.3014</td>\n",
              "      <td>358500.0</td>\n",
              "      <td>NEAR BAY</td>\n",
              "    </tr>\n",
              "    <tr>\n",
              "      <th>2</th>\n",
              "      <td>-122.24</td>\n",
              "      <td>37.85</td>\n",
              "      <td>52.0</td>\n",
              "      <td>1467.0</td>\n",
              "      <td>190.0</td>\n",
              "      <td>496.0</td>\n",
              "      <td>177.0</td>\n",
              "      <td>7.2574</td>\n",
              "      <td>352100.0</td>\n",
              "      <td>NEAR BAY</td>\n",
              "    </tr>\n",
              "    <tr>\n",
              "      <th>3</th>\n",
              "      <td>-122.25</td>\n",
              "      <td>37.85</td>\n",
              "      <td>52.0</td>\n",
              "      <td>1274.0</td>\n",
              "      <td>235.0</td>\n",
              "      <td>558.0</td>\n",
              "      <td>219.0</td>\n",
              "      <td>5.6431</td>\n",
              "      <td>341300.0</td>\n",
              "      <td>NEAR BAY</td>\n",
              "    </tr>\n",
              "    <tr>\n",
              "      <th>4</th>\n",
              "      <td>-122.25</td>\n",
              "      <td>37.85</td>\n",
              "      <td>52.0</td>\n",
              "      <td>1627.0</td>\n",
              "      <td>280.0</td>\n",
              "      <td>565.0</td>\n",
              "      <td>259.0</td>\n",
              "      <td>3.8462</td>\n",
              "      <td>342200.0</td>\n",
              "      <td>NEAR BAY</td>\n",
              "    </tr>\n",
              "  </tbody>\n",
              "</table>\n",
              "</div>"
            ],
            "text/plain": [
              "   longitude  latitude  ...  median_house_value  ocean_proximity\n",
              "0    -122.23     37.88  ...            452600.0         NEAR BAY\n",
              "1    -122.22     37.86  ...            358500.0         NEAR BAY\n",
              "2    -122.24     37.85  ...            352100.0         NEAR BAY\n",
              "3    -122.25     37.85  ...            341300.0         NEAR BAY\n",
              "4    -122.25     37.85  ...            342200.0         NEAR BAY\n",
              "\n",
              "[5 rows x 10 columns]"
            ]
          },
          "metadata": {
            "tags": []
          },
          "execution_count": 18
        }
      ]
    },
    {
      "cell_type": "code",
      "metadata": {
        "id": "zEsOsQTB1WXC",
        "colab_type": "code",
        "colab": {}
      },
      "source": [
        "Y = dataset['median_house_value']\n",
        "X = dataset.loc[:,'longitude':'median_income']\n"
      ],
      "execution_count": 0,
      "outputs": []
    },
    {
      "cell_type": "code",
      "metadata": {
        "id": "L6gRh0vc1e3K",
        "colab_type": "code",
        "colab": {}
      },
      "source": [
        "x_train, x_test, y_train, y_test = train_test_split(X, Y, test_size=0.3)\n",
        "x_train_np = x_train.to_numpy() \n",
        "y_train_np = y_train.to_numpy()\n",
        "x_test_np = x_test.to_numpy() \n",
        "y_test_np = y_test.to_numpy()\n"
      ],
      "execution_count": 0,
      "outputs": []
    },
    {
      "cell_type": "code",
      "metadata": {
        "id": "GqWDnEbW1oQW",
        "colab_type": "code",
        "colab": {}
      },
      "source": [
        "import torch\n",
        "from torch.nn import Conv1d\n",
        "from torch.nn import MaxPool1d\n",
        "from torch.nn import Flatten\n",
        "from torch.nn import Linear\n",
        "from torch.nn.functional import relu\n",
        "from torch.utils.data import DataLoader, TensorDataset"
      ],
      "execution_count": 0,
      "outputs": []
    },
    {
      "cell_type": "code",
      "metadata": {
        "id": "5I0qp5ZU2Ekd",
        "colab_type": "code",
        "colab": {}
      },
      "source": [
        "class CnnRegressor(torch.nn.Module): \n",
        "  def __init__(self, batch_size, inputs, outputs):\n",
        "    super(CnnRegressor, self).__init__() \n",
        "    self.batch_size = batch_size \n",
        "    self.inputs = inputs \n",
        "    self.outputs = outputs\n",
        "    self.input_layer = Conv1d(inputs, batch_size, 1)\n",
        "    self.max_pooling_layer = MaxPool1d(1)\n",
        "    self.conv_layer = Conv1d(batch_size, 128, 1)\n",
        "    self.flatten_layer = Flatten()\n",
        "    self.linear_layer = Linear(128, 64)\n",
        "    self.output_layer = Linear(64, outputs)\n",
        "  def feed(self, input): \n",
        "    input = input.reshape((self.batch_size, self.inputs, 1))\n",
        "    output = relu(self.input_layer(input))\n",
        "    output = self.max_pooling_layer(output)\n",
        "    output = relu(self.conv_layer(output))\n",
        "    output = self.flatten_layer(output)\n",
        "    output = self.linear_layer(output)\n",
        "    output = self.output_layer(output) \n",
        "    return output\n",
        "\n",
        "    \n"
      ],
      "execution_count": 0,
      "outputs": []
    },
    {
      "cell_type": "code",
      "metadata": {
        "id": "98fyzFkV2hQC",
        "colab_type": "code",
        "outputId": "de287d32-f0c2-4992-b57f-d8f29511a8a9",
        "colab": {
          "base_uri": "https://localhost:8080/",
          "height": 180
        }
      },
      "source": [
        "from torch.optim import SGD\n",
        "from torch.nn import L1Loss\n",
        "!pip install pytorch-ignite \n",
        "from ignite.contrib.metrics.regression.r2_score import R2Score\n",
        "batch_size = 64\n",
        "model = CnnRegressor(batch_size, X.shape[1], 1)\n",
        "model.cuda()\n"
      ],
      "execution_count": 0,
      "outputs": [
        {
          "output_type": "stream",
          "text": [
            "Requirement already satisfied: pytorch-ignite in /usr/local/lib/python3.6/dist-packages (0.3.0)\n",
            "Requirement already satisfied: torch in /usr/local/lib/python3.6/dist-packages (from pytorch-ignite) (1.4.0)\n"
          ],
          "name": "stdout"
        },
        {
          "output_type": "execute_result",
          "data": {
            "text/plain": [
              "CnnRegressor(\n",
              "  (input_layer): Conv1d(8, 64, kernel_size=(1,), stride=(1,))\n",
              "  (max_pooling_layer): MaxPool1d(kernel_size=1, stride=1, padding=0, dilation=1, ceil_mode=False)\n",
              "  (conv_layer): Conv1d(64, 128, kernel_size=(1,), stride=(1,))\n",
              "  (flatten_layer): Flatten()\n",
              "  (linear_layer): Linear(in_features=128, out_features=64, bias=True)\n",
              "  (output_layer): Linear(in_features=64, out_features=1, bias=True)\n",
              ")"
            ]
          },
          "metadata": {
            "tags": []
          },
          "execution_count": 23
        }
      ]
    },
    {
      "cell_type": "code",
      "metadata": {
        "id": "J7oHG8b-4E4-",
        "colab_type": "code",
        "colab": {}
      },
      "source": [
        "def model_loss(model, dataset, train = False, optimizer = None): \n",
        "  performance = L1Loss() \n",
        "  score_metric = R2Score()\n",
        "  avg_loss = 0\n",
        "  avg_score = 0\n",
        "  count = 0 \n",
        "  for input, output in iter(dataset): \n",
        "    predictions = model.feed(input)\n",
        "    loss = performance(predictions, output)\n",
        "    score_metric.update([predictions, output]) \n",
        "    score = score_metric.compute()\n",
        "    if(train): \n",
        "      optimizer.zero_grad()\n",
        "      optimizer.step()\n",
        "    avg_loss += loss.item()\n",
        "    avg_score += score\n",
        "    count += 1\n",
        "  return avg_loss / count, avg_score / count\n"
      ],
      "execution_count": 0,
      "outputs": []
    },
    {
      "cell_type": "code",
      "metadata": {
        "id": "98G7Bx9t4mRs",
        "colab_type": "code",
        "outputId": "bc5d32cd-3a83-43b2-b3ae-5afbc5fbe0c6",
        "colab": {
          "base_uri": "https://localhost:8080/",
          "height": 570
        }
      },
      "source": [
        "epochs = 5\n",
        "optimizer = SGD(model.parameters(),lr=1e-5)\n",
        "\n",
        "inputs=torch.from_numpy(x_train_np).cuda().float()\n",
        "outputs=torch.from_numpy(y_train_np.reshape(y_train_np.shape[0],1)).cuda().float()\n",
        "\n",
        "tensor=TensorDataset(inputs,outputs)\n",
        "loader=DataLoader(tensor,batch_size,shuffle=True,drop_last=True)\n",
        "\n",
        "for epoch in range(epochs):\n",
        "  avg_loss,avg_r2_score=model_loss(model,loader,train=True, optimizer=optimizer)\n",
        "\n",
        "  print(\"epoch\"+str(epoch+1)+ \":\\n\\tloss =\"+ str(avg_loss)+ \"\\n\\tR2 score =\" + str(avg_r2_score))\n",
        "\n",
        "\n",
        "dataset.plot(subplots=True)\n",
        "plt.tight_layout()\n",
        "plt.show()\n",
        "plt.savefig('plot.png')"
      ],
      "execution_count": 0,
      "outputs": [
        {
          "output_type": "stream",
          "text": [
            "epoch1:\n",
            "\tloss =206909.43862107623\n",
            "\tR2 score =-3.1149300591649896\n",
            "epoch2:\n",
            "\tloss =206869.8265835202\n",
            "\tR2 score =-3.167175452098705\n",
            "epoch3:\n",
            "\tloss =206892.81446188342\n",
            "\tR2 score =-3.1748417145726116\n",
            "epoch4:\n",
            "\tloss =206871.8971412556\n",
            "\tR2 score =-3.173026323078867\n",
            "epoch5:\n",
            "\tloss =206876.92138452915\n",
            "\tR2 score =-3.1927537075277956\n"
          ],
          "name": "stdout"
        },
        {
          "output_type": "display_data",
          "data": {
            "image/png": "[encoded data removed]",
            "text/plain": [
              "<Figure size 432x288 with 9 Axes>"
            ]
          },
          "metadata": {
            "tags": []
          }
        },
        {
          "output_type": "display_data",
          "data": {
            "text/plain": [
              "<Figure size 432x288 with 0 Axes>"
            ]
          },
          "metadata": {
            "tags": []
          }
        }
      ]
    },
    {
      "cell_type": "code",
      "metadata": {
        "id": "GNvrYTSySWUy",
        "colab_type": "code",
        "colab": {}
      },
      "source": [
        "inputs = torch.from_numpy(x_test_np).cuda().float() \n",
        "outputs = torch.from_numpy(y_test_np.reshape(y_test_np.shape[0], 1)).cuda().float()\n",
        "tensor = TensorDataset(inputs, outputs) \n",
        "loader = DataLoader(tensor, batch_size, shuffle=True, drop_last=True)\n",
        "avg_loss, avg_r2_score = model_loss(model, loader) \n",
        "print(\"The model's L1 loss is: \" + str(avg_loss)) \n",
        "print(\"The model's R^2 score is: \" + str(avg_r2_score))\n"
      ],
      "execution_count": 0,
      "outputs": []
    }
  ]
}